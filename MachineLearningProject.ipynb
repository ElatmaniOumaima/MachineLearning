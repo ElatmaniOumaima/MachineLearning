{
  "nbformat": 4,
  "nbformat_minor": 0,
  "metadata": {
    "colab": {
      "private_outputs": true,
      "provenance": [],
      "toc_visible": true,
      "authorship_tag": "ABX9TyPreib5NL3ONW5jIMUi8nPJ",
      "include_colab_link": true
    },
    "kernelspec": {
      "name": "python3",
      "display_name": "Python 3"
    },
    "language_info": {
      "name": "python"
    }
  },
  "cells": [
    {
      "cell_type": "markdown",
      "metadata": {
        "id": "view-in-github",
        "colab_type": "text"
      },
      "source": [
        "<a href=\"https://colab.research.google.com/github/ElatmaniOumaima/MachineLearning/blob/main/MachineLearningProject.ipynb\" target=\"_parent\"><img src=\"https://colab.research.google.com/assets/colab-badge.svg\" alt=\"Open In Colab\"/></a>"
      ]
    },
    {
      "cell_type": "markdown",
      "source": [
        "#Data explaination:\n",
        "1. Âge : L'âge de l'individu au moment du diagnostic.\n",
        "\n",
        "\n",
        "\n",
        "2. Race : L'origine raciale ou ethnique de l'individu.\n",
        "3. État civil : Le statut matrimonial de l'individu, tel que marié, célibataire, divorcé ou veuf.\n",
        "4. Stade T : Décris la taille et l'étendue de la tumeur primaire (T) dans le sein.\n",
        "5. Stade N : Indique si le cancer s'est propagé aux ganglions lymphatiques voisins (N) de l'aisselle (aisselle).\n",
        "6. Stade 6 : Référence au stade global du cancer du sein selon la 6ème édition du système de stadification du cancer de l'American Joint Committee on Cancer (AJCC).\n",
        "7. Différenciation : Cela pourrait faire référence au grade de la tumeur, qui évalue dans quelle mesure les cellules cancéreuses ressemblent aux cellules normales sous un microscope.\n",
        "8. Grade : Le grade de la tumeur indique à quel point les cellules cancéreuses sont anormales sous un microscope et à quelle vitesse la tumeur est susceptible de se développer et de se propager.\n",
        "9. Stade A : Similaire au Stade T et au Stade N, le Stade A fait probablement référence à un autre aspect de la stadification du cancer, probablement lié à l'étendue de la maladie et au pronostic.\n",
        "10. Taille de la tumeur : La taille de la tumeur primaire dans le sein, généralement mesurée en centimètres.\n",
        "11. Statut des œstrogènes : Indique si les cellules cancéreuses ont des récepteurs pour l'hormone œstrogène.\n",
        "12. Statut de la progestérone : Similaire au statut des œstrogènes, le statut des récepteurs de la progestérone indique si les cellules cancéreuses ont des récepteurs pour l'hormone progestérone.\n",
        "13. Ganglion lymphatique régional examiné : Le nombre de ganglions lymphatiques régionaux examinés lors de la chirurgie pour déterminer la participation des ganglions lymphatiques.\n",
        "14. Régional Nœud Positif : Indique si le cancer s'est propagé aux ganglions lymphatiques régionaux.\n",
        "15. Mois de survie : Le nombre de mois survécus après le diagnostic.\n",
        "16. ![Tracé_Effondrement.png](data:image/png;base64,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)Statut : Indique le statut actuel de l'individu, probablement s'il est en vie ou décédé au moment de la collecte ou de l'analyse des données.\n",
        "\n"
      ],
      "metadata": {
        "id": "M10XuNgfACaj"
      }
    },
    {
      "cell_type": "markdown",
      "source": [
        "#Data preprocessing"
      ],
      "metadata": {
        "id": "meAnEmZsVbcl"
      }
    },
    {
      "cell_type": "markdown",
      "source": [
        "##Data cleaning"
      ],
      "metadata": {
        "id": "MjuLVGbEV4Dc"
      }
    },
    {
      "cell_type": "code",
      "execution_count": null,
      "metadata": {
        "id": "OgRZeTlOUQdN"
      },
      "outputs": [],
      "source": [
        "import pandas as pd\n",
        "import numpy as np\n",
        "from sklearn.preprocessing import LabelEncoder\n"
      ]
    },
    {
      "cell_type": "code",
      "source": [
        "from google.colab import files\n",
        "files.upload()"
      ],
      "metadata": {
        "id": "7HaWRcLNUmEZ"
      },
      "execution_count": null,
      "outputs": []
    },
    {
      "cell_type": "code",
      "source": [
        "df=pd.read_csv(\"Breast_Cancer.csv\")"
      ],
      "metadata": {
        "id": "1onmziXiUnBx"
      },
      "execution_count": null,
      "outputs": []
    },
    {
      "cell_type": "code",
      "source": [
        "df1=df.copy()"
      ],
      "metadata": {
        "id": "FyOtWE8VzQcK"
      },
      "execution_count": null,
      "outputs": []
    },
    {
      "cell_type": "code",
      "source": [
        "df"
      ],
      "metadata": {
        "id": "zpSZqFAtUwf-"
      },
      "execution_count": null,
      "outputs": []
    },
    {
      "cell_type": "code",
      "source": [
        "df.columns"
      ],
      "metadata": {
        "id": "lYRT4V8AU8mY"
      },
      "execution_count": null,
      "outputs": []
    },
    {
      "cell_type": "code",
      "source": [
        "df.info()"
      ],
      "metadata": {
        "id": "k9IyFs4vU-1N"
      },
      "execution_count": null,
      "outputs": []
    },
    {
      "cell_type": "code",
      "source": [
        "df.describe()"
      ],
      "metadata": {
        "id": "8IttFZhoVDne"
      },
      "execution_count": null,
      "outputs": []
    },
    {
      "cell_type": "code",
      "source": [
        "df.shape"
      ],
      "metadata": {
        "id": "Ps1-nMwfaQ2V"
      },
      "execution_count": null,
      "outputs": []
    },
    {
      "cell_type": "markdown",
      "source": [
        "### On affiche les modlités prenantes par les variables catégoriales"
      ],
      "metadata": {
        "id": "VCSj7XuhVWwm"
      }
    },
    {
      "cell_type": "code",
      "source": [
        "df[\"Race\"].unique()"
      ],
      "metadata": {
        "id": "wo_K0a7iVKJG"
      },
      "execution_count": null,
      "outputs": []
    },
    {
      "cell_type": "code",
      "source": [
        "df[\"Marital Status\"].unique()"
      ],
      "metadata": {
        "id": "EpUgEYgmWPkN"
      },
      "execution_count": null,
      "outputs": []
    },
    {
      "cell_type": "code",
      "source": [
        "df['T Stage '].unique()"
      ],
      "metadata": {
        "id": "N9LrGmD9WW4p"
      },
      "execution_count": null,
      "outputs": []
    },
    {
      "cell_type": "code",
      "source": [
        "df['N Stage'].unique()"
      ],
      "metadata": {
        "id": "seFIG2YrWccq"
      },
      "execution_count": null,
      "outputs": []
    },
    {
      "cell_type": "code",
      "source": [
        "df['6th Stage'].unique()"
      ],
      "metadata": {
        "id": "SjyEg8D7YXjm"
      },
      "execution_count": null,
      "outputs": []
    },
    {
      "cell_type": "code",
      "source": [
        "df[\"differentiate\"].unique()"
      ],
      "metadata": {
        "id": "MdnUtpxJYjyX"
      },
      "execution_count": null,
      "outputs": []
    },
    {
      "cell_type": "code",
      "source": [
        "df['Grade'].unique()"
      ],
      "metadata": {
        "id": "tYfjbYlcYtsI"
      },
      "execution_count": null,
      "outputs": []
    },
    {
      "cell_type": "code",
      "source": [
        "df['A Stage'].unique()"
      ],
      "metadata": {
        "id": "RXKFqjcOZK9E"
      },
      "execution_count": null,
      "outputs": []
    },
    {
      "cell_type": "code",
      "source": [
        "df['Estrogen Status'].unique()"
      ],
      "metadata": {
        "id": "-Kiw1U8VZrGE"
      },
      "execution_count": null,
      "outputs": []
    },
    {
      "cell_type": "code",
      "source": [
        "df['Progesterone Status'].unique()"
      ],
      "metadata": {
        "id": "JqwlfBTnZwt3"
      },
      "execution_count": null,
      "outputs": []
    },
    {
      "cell_type": "code",
      "source": [
        "df['Status'].unique()"
      ],
      "metadata": {
        "id": "-fmsQ3ucZ3aY"
      },
      "execution_count": null,
      "outputs": []
    },
    {
      "cell_type": "markdown",
      "source": [
        "##Data transformation and data formatting:"
      ],
      "metadata": {
        "id": "U-MRuS6EaM90"
      }
    },
    {
      "cell_type": "code",
      "source": [
        "## on formatte notre categoriale variables\n",
        "##on definit une fonction\n",
        "label_encoder = LabelEncoder()\n",
        "\n",
        "# Iterate over each categorical column and encode its values\n",
        "def encodin(data,categorical_columns):\n",
        "  for column in categorical_columns:\n",
        "    data[column] = label_encoder.fit_transform(data[column])"
      ],
      "metadata": {
        "id": "WMdQDkg8aAjP"
      },
      "execution_count": null,
      "outputs": []
    },
    {
      "cell_type": "code",
      "source": [
        "encodin(df,df.select_dtypes(include=['object']).columns.tolist())"
      ],
      "metadata": {
        "id": "o6sjFMWdahaC"
      },
      "execution_count": null,
      "outputs": []
    },
    {
      "cell_type": "code",
      "source": [
        "df"
      ],
      "metadata": {
        "id": "2nhQQVo_Dg2A"
      },
      "execution_count": null,
      "outputs": []
    },
    {
      "cell_type": "code",
      "source": [
        "df.corr()"
      ],
      "metadata": {
        "id": "VGHfV_BhDh2w"
      },
      "execution_count": null,
      "outputs": []
    },
    {
      "cell_type": "code",
      "source": [
        "##we plot the scatter point for the survival months and status to see the data distributions\n",
        "##we define a function  that when we call it we give it the parameter to plot in sccater plot\n",
        "import matplotlib.pyplot as plt\n",
        "def scatter_plot(x, y):\n",
        "    plt.scatter(x, y)\n",
        "    plt.xlabel(f'X{x.name}')\n",
        "    plt.ylabel(f'Y-{y.name}')\n",
        "    plt.title('Scatter Plot')\n",
        "    plt.show()\n",
        "\n",
        "\n",
        "def scatter_plots_over_columns(data, target_column):\n",
        "    num_columns = len(data.columns) - 1  # Exclude the target column\n",
        "    num_plots_per_row = 4\n",
        "    num_rows = (num_columns + num_plots_per_row - 1) // num_plots_per_row\n",
        "\n",
        "    fig, axes = plt.subplots(num_rows, num_plots_per_row, figsize=(15, 5*num_rows))\n",
        "    plt.subplots_adjust(hspace=0.5)\n",
        "\n",
        "    for i, column in enumerate(data.columns):\n",
        "        if column == target_column:\n",
        "            continue  # Skip the target column\n",
        "        row = i // num_plots_per_row\n",
        "        col = i % num_plots_per_row\n",
        "        if row == num_rows - 1 and col >= num_columns % num_plots_per_row:\n",
        "            # Skip if there are no more columns to plot in the last row\n",
        "            continue\n",
        "        axes[row, col].scatter(data[column], data[target_column])\n",
        "        axes[row, col].set_xlabel(column)\n",
        "        axes[row, col].set_ylabel(target_column)\n",
        "        axes[row, col].set_title(f\"{column} vs {target_column}\")\n",
        "\n",
        "    plt.tight_layout()\n",
        "    plt.show()\n",
        "scatter_plots_over_columns(df, 'Survival Months')"
      ],
      "metadata": {
        "id": "wuOkUqLCDmv4"
      },
      "execution_count": null,
      "outputs": []
    },
    {
      "cell_type": "markdown",
      "source": [
        "##Feature scalling for continous features"
      ],
      "metadata": {
        "id": "cMgDuPYRFeJC"
      }
    },
    {
      "cell_type": "code",
      "source": [
        "from sklearn.preprocessing import StandardScaler\n",
        "\n",
        "# Assuming 'df' is your DataFrame containing the breast cancer data\n",
        "# Assuming 'continuous_columns' is a list of column names containing continuous variables\n",
        "\n",
        "# Initialize the StandardScaler\n",
        "scaler = StandardScaler()\n",
        "\n",
        "def stand(df,col,scaler):\n",
        "    # Reshape the column to a 2D array\n",
        "    col_data = df[col].values.reshape(-1, 1)\n",
        "    # Scale the column\n",
        "    df[col] = scaler.fit_transform(col_data)\n",
        "\n",
        "\n"
      ],
      "metadata": {
        "id": "yHHlWuP6IcJN"
      },
      "execution_count": null,
      "outputs": []
    },
    {
      "cell_type": "code",
      "source": [
        "L=df.select_dtypes(include=['int']).columns.tolist()\n",
        "for col in L:\n",
        "  stand(df,col,scaler)"
      ],
      "metadata": {
        "id": "w30ob0wcJE71"
      },
      "execution_count": null,
      "outputs": []
    },
    {
      "cell_type": "code",
      "source": [
        "df.dtypes\n"
      ],
      "metadata": {
        "id": "E6xqXgKnJQ5S"
      },
      "execution_count": null,
      "outputs": []
    },
    {
      "cell_type": "code",
      "source": [
        "df.corr()"
      ],
      "metadata": {
        "id": "20XYy_FEMc4G"
      },
      "execution_count": null,
      "outputs": []
    },
    {
      "cell_type": "code",
      "source": [
        "int_columns = [col for col in df.columns if df[col].dtype == 'float64']\n",
        "scatter_plots_over_columns(df[int_columns], 'Survival Months')"
      ],
      "metadata": {
        "id": "3YJjWCNZJTQF"
      },
      "execution_count": null,
      "outputs": []
    },
    {
      "cell_type": "markdown",
      "source": [
        "##data visualization and intrepretation:"
      ],
      "metadata": {
        "id": "9H6fp32QN0Yq"
      }
    },
    {
      "cell_type": "code",
      "source": [
        "##ploting the  frequences of the stages\n",
        "def plot_stage_frequencies(df, stage_column):\n",
        "    # Count the frequencies of each stage\n",
        "    stage_counts = df[stage_column].value_counts()\n",
        "\n",
        "    # Plot the frequencies\n",
        "    plt.figure(figsize=(15, 6))\n",
        "    stage_counts.plot(kind='bar', color='skyblue')\n",
        "    plt.title(f'Frequency of Stages {stage_column}')\n",
        "    plt.xlabel('Stage')\n",
        "    plt.ylabel('Frequency')\n",
        "    plt.xticks(rotation=45)  # Rotate x-axis labels for better readability\n",
        "    plt.grid(axis='x', linestyle='--', alpha=0.7)\n",
        "    plt.show()"
      ],
      "metadata": {
        "id": "MVVdK6nSLTS6"
      },
      "execution_count": null,
      "outputs": []
    },
    {
      "cell_type": "code",
      "source": [
        "L=['A Stage','6th Stage','N Stage','T Stage ','differentiate','Grade','Estrogen Status','Progesterone Status']\n",
        "for col in L:\n",
        "  plot_stage_frequencies(df1, col)"
      ],
      "metadata": {
        "id": "w2u2r7gbOlW7"
      },
      "execution_count": null,
      "outputs": []
    },
    {
      "cell_type": "code",
      "source": [
        "##now we plot the percentage of each columns values the pourcentage of alive people and dead people\n",
        "\n",
        "\n",
        "def plot_stage_status_percentage(df, stage_column, status_column):\n",
        "    # Calculate the percentage of alive and dead people for each stage category\n",
        "    original_stage_names = label_encoder.classes_\n",
        "    stage_status_percentage = df.groupby(stage_column)[status_column].value_counts(normalize=True) * 100\n",
        "\n",
        "\n",
        "    # Plot the pie charts for each stage category\n",
        "    for stage_category, percentages in stage_status_percentage.groupby(level=0):\n",
        "\n",
        "\n",
        "        plt.figure(figsize=(6, 6))\n",
        "        plt.pie(percentages, labels=percentages.index.get_level_values(1), autopct='%1.1f%%', colors=['skyblue', 'lightcoral'], startangle=140)\n",
        "        plt.title(f'Percentage of Alive and Dead People for Stage {stage_category}')\n",
        "        plt.axis('equal')  # Equal aspect ratio ensures that pie is drawn as a circle.\n",
        "        plt.show()\n",
        "\n",
        "# Call the function with the DataFrame, stage column name, and status column name\n",
        "plot_stage_status_percentage(df1, 'A Stage', 'Status')\n"
      ],
      "metadata": {
        "id": "YjeSX8qkO9hG"
      },
      "execution_count": null,
      "outputs": []
    },
    {
      "cell_type": "code",
      "source": [
        "plot_stage_status_percentage(df1, 'differentiate', 'Status')"
      ],
      "metadata": {
        "id": "L5PsGy7gWm9n"
      },
      "execution_count": null,
      "outputs": []
    },
    {
      "cell_type": "code",
      "source": [
        "plot_stage_status_percentage(df1, 'Grade', 'Status')"
      ],
      "metadata": {
        "id": "F1SBauuez3e_"
      },
      "execution_count": null,
      "outputs": []
    },
    {
      "cell_type": "code",
      "source": [
        "plot_stage_status_percentage(df1, 'Estrogen Status', 'Status')"
      ],
      "metadata": {
        "id": "F1C7dQrg0MGq"
      },
      "execution_count": null,
      "outputs": []
    },
    {
      "cell_type": "code",
      "source": [
        "plot_stage_status_percentage(df1, 'Progesterone Status', 'Status')"
      ],
      "metadata": {
        "id": "ToG1Njld0aqr"
      },
      "execution_count": null,
      "outputs": []
    },
    {
      "cell_type": "code",
      "source": [
        "plot_stage_status_percentage(df1,'6th Stage' , 'Status')"
      ],
      "metadata": {
        "id": "5Jj6LcDa0l0e"
      },
      "execution_count": null,
      "outputs": []
    },
    {
      "cell_type": "code",
      "source": [
        "plot_stage_status_percentage(df1,'N Stage' , 'Status')"
      ],
      "metadata": {
        "id": "UA4EZ3Gr1Qlr"
      },
      "execution_count": null,
      "outputs": []
    },
    {
      "cell_type": "code",
      "source": [
        "plot_stage_status_percentage(df1,'T Stage ' , 'Status')"
      ],
      "metadata": {
        "id": "9LmbvDTU1YXd"
      },
      "execution_count": null,
      "outputs": []
    },
    {
      "cell_type": "code",
      "source": [
        "plot_stage_status_percentage(df1,'Marital Status' , 'Status')"
      ],
      "metadata": {
        "id": "eqCAL-651hRk"
      },
      "execution_count": null,
      "outputs": []
    },
    {
      "cell_type": "code",
      "source": [
        "plot_stage_status_percentage(df1,'Race' , 'Status')"
      ],
      "metadata": {
        "id": "EZApz8ag1pXA"
      },
      "execution_count": null,
      "outputs": []
    },
    {
      "cell_type": "code",
      "source": [
        "df.corr()"
      ],
      "metadata": {
        "id": "CKIQhL-Z13i9"
      },
      "execution_count": null,
      "outputs": []
    },
    {
      "cell_type": "markdown",
      "source": [
        "##Etude ACP (Reduction de dimensions)"
      ],
      "metadata": {
        "id": "v_agO1fP3wM3"
      }
    },
    {
      "cell_type": "markdown",
      "source": [
        "\n",
        "\n",
        "*   On a d’après la matrice de corrélaƟon plusieurs variables qui ne se sont pas supérieur à 0.5. Donc, on\n",
        "peut dire que la factorisaƟon n’est pas conseillée selon la matrice de corrélaƟon.\n",
        "*   Maintenant on verras le test de KMO et barllet :\n",
        "\n"
      ],
      "metadata": {
        "id": "OZ8f5YAx34yw"
      }
    },
    {
      "cell_type": "code",
      "source": [
        "!pip install factor-analyzer"
      ],
      "metadata": {
        "id": "Nx4lLGtv4Xtu"
      },
      "execution_count": null,
      "outputs": []
    },
    {
      "cell_type": "code",
      "source": [
        "from factor_analyzer.factor_analyzer import calculate_bartlett_sphericity, calculate_kmo\n",
        "\n",
        "# Assuming 'df' is your DataFrame containing the breast cancer data\n",
        "\n",
        "# Calculate Bartlett's test of sphericity\n",
        "chi_square_value, p_value = calculate_bartlett_sphericity(df)\n",
        "print(\"Bartlett's test of sphericity:\")\n",
        "print(\"Chi-Square Value:\", chi_square_value)\n",
        "print(\"P-value:\", p_value)\n",
        "\n",
        "# Calculate the Kaiser-Meyer-Olkin (KMO) measure of sampling adequacy\n",
        "kmo_all, kmo_model = calculate_kmo(df)\n",
        "print(\"\\nKMO measure of sampling adequacy:\")\n",
        "print(\"Overall KMO:\", kmo_model)\n"
      ],
      "metadata": {
        "id": "mmACeHG32ECi"
      },
      "execution_count": null,
      "outputs": []
    },
    {
      "cell_type": "markdown",
      "source": [
        "##On a l’indice de KMO >0.5 ainsi la SignificaƟon de BartleƩ p_value =0.000, c’est très significatif. Donc la\n",
        "factorisation est conseillée. L’ACP satisfait à au moins deux de ces trois condiƟons (KMO et BartleƩ),\n",
        "Donc on peut continuer."
      ],
      "metadata": {
        "id": "LVzXu8ay4lTm"
      }
    },
    {
      "cell_type": "markdown",
      "source": [
        "##Combien de facteurs retenir ? :\n",
        "Trois règles sont applicables :\n",
        "• 1ere règle : la règle de Kaiser qui veut qu’on ne retienne que les facteurs aux valeurs propres supérieures à 1.\n",
        "• 2eme règle : on choisit le nombre d’axe en fonction de la restitution minimale d’information que l’on souhaite. Pour ces deux premières règles, on examine le tableau « Variance totale expliquée ».\n",
        " \tD’après la 1ere règle de Kaiser et d’après le tableau Variance totale expliquée et dans la colonne ‘cumulés’, on voit qu’on restitue 74,664% si on retient 5 facteurs\n",
        "*\t• 3eme règle : test du coude. On observe le graphique des valeurs propres et on ne retient que les valeurs qui se trouvent à gauche du point d’inflexion. Graphiquement, on part des composants qui apportent le moins d’information (qui se trouvent à droite), on relie par une droite les points presque alignés et on ne retient que les axes qui sont au-dessus de cette ligne.\n",
        "\n"
      ],
      "metadata": {
        "id": "aC4p5UmS6B0P"
      }
    },
    {
      "cell_type": "code",
      "source": [
        "from sklearn.decomposition import PCA\n",
        "import numpy as np\n",
        "\n",
        "# Assuming 'df' is your DataFrame containing the breast cancer data\n",
        "\n",
        "# Fit PCA\n",
        "pca = PCA()\n",
        "pca.fit(df)\n",
        "\n",
        "# Get explained variance ratio\n",
        "explained_variance_ratio = pca.explained_variance_ratio_\n",
        "\n",
        "# Compute cumulative explained variance ratio\n",
        "cumulative_variance_ratio = np.cumsum(explained_variance_ratio)\n",
        "\n",
        "# Print explained variance ratio and cumulative explained variance ratio\n",
        "print(\"Explained Variance Ratio:\")\n",
        "print(explained_variance_ratio)\n",
        "print(\"\\nCumulative Explained Variance Ratio:\")\n",
        "print(cumulative_variance_ratio)\n"
      ],
      "metadata": {
        "id": "ggKCNAiw2a6n"
      },
      "execution_count": null,
      "outputs": []
    },
    {
      "cell_type": "code",
      "source": [
        "import numpy as np\n",
        "\n",
        "# Assuming 'explained_variance_ratio' contains the explained variance ratio for each principal component\n",
        "\n",
        "# Compute the second derivative of the explained variance ratio\n",
        "second_derivative = np.gradient(np.gradient(explained_variance_ratio))\n",
        "\n",
        "# Find the indices where the second derivative is closest to zero\n",
        "reflection_point_indices = np.where(np.abs(second_derivative) < 1e-5)[0]\n",
        "\n",
        "# Plot scree plot with reflection points\n",
        "plt.figure(figsize=(8, 6))\n",
        "plt.plot(range(1, len(explained_variance_ratio) + 1), explained_variance_ratio, marker='o', linestyle='-')\n",
        "plt.title('Scree Plot with Reflection Points')\n",
        "plt.xlabel('Principal Component')\n",
        "plt.ylabel('Explained Variance Ratio')\n",
        "plt.grid(True)\n",
        "\n",
        "# Plot reflection points\n",
        "for index in reflection_point_indices:\n",
        "    plt.plot(index + 1, explained_variance_ratio[index], marker='o', markersize=10, color='red', label='Reflection Points')\n",
        "\n",
        "plt.legend()\n",
        "plt.show()\n"
      ],
      "metadata": {
        "id": "kjAX4cuQ4kCr"
      },
      "execution_count": null,
      "outputs": []
    },
    {
      "cell_type": "code",
      "source": [
        "second_derivative = np.gradient(np.gradient(explained_variance_ratio))\n",
        "\n",
        "# Calculer la dérivée seconde à partir du quatrième point\n",
        "fourth_point_second_derivative = second_derivative[3]\n",
        "\n",
        "print(\"La dérivée seconde à partir du quatrième point est:\", fourth_point_second_derivative)"
      ],
      "metadata": {
        "id": "RT3BaCAr7pod"
      },
      "execution_count": null,
      "outputs": []
    },
    {
      "cell_type": "markdown",
      "source": [
        "##Conclusion d'ACP : alors on auras 3 composantes principales"
      ],
      "metadata": {
        "id": "Je89PFuU-r2h"
      }
    },
    {
      "cell_type": "code",
      "source": [
        "\n",
        "\n",
        "\n",
        "\n",
        "# Créer une instance de PCA avec le nombre de composantes souhaité\n",
        "pca = PCA(n_components=4)\n",
        "\n",
        "# Fitter le modèle PCA et transformer les données\n",
        "PCA_3= pca.fit_transform(df)\n",
        "\n",
        "# Afficher la forme de la nouvelle représentation des données\n",
        "print(\"La forme de la représentation transformée des données est :\", PCA_3.shape)\n",
        "\n"
      ],
      "metadata": {
        "id": "cFufza2A-qeA"
      },
      "execution_count": null,
      "outputs": []
    },
    {
      "cell_type": "code",
      "source": [
        "components_matrix = pca.components_\n",
        "print(\"Matrice de composantes :\")\n",
        "pd.DataFrame(components_matrix)"
      ],
      "metadata": {
        "id": "9epMa8Gt-H4A"
      },
      "execution_count": null,
      "outputs": []
    },
    {
      "cell_type": "code",
      "source": [
        "import numpy as np\n",
        "import matplotlib.pyplot as plt\n",
        "from mpl_toolkits.mplot3d import Axes3D\n",
        "from sklearn.decomposition import PCA\n",
        "\n",
        "# Suppose 'data' is your dataset\n",
        "\n",
        "# Create an instance of PCA with the desired number of components\n",
        "pca = PCA(n_components=3)\n",
        "\n",
        "# Fit the PCA model and transform the data\n",
        "transformed_data = pca.fit_transform(df)\n",
        "\n",
        "# Create a 3D scatter plot\n",
        "fig = plt.figure(figsize=(8, 6))\n",
        "ax = fig.add_subplot(111, projection='3d')\n",
        "\n",
        "# Scatter plot the transformed data\n",
        "ax.scatter(transformed_data[:, 0], transformed_data[:, 1], transformed_data[:, 2], c='b', marker='o')\n",
        "\n",
        "# Set labels and title\n",
        "ax.set_xlabel('Principal Component 1')\n",
        "ax.set_ylabel('Principal Component 2')\n",
        "ax.set_zlabel('Principal Component 3')\n",
        "ax.set_title('Data After PCA')\n",
        "\n",
        "# Show the plot\n",
        "plt.show()\n"
      ],
      "metadata": {
        "id": "vjMAQbhV_f4D"
      },
      "execution_count": null,
      "outputs": []
    },
    {
      "cell_type": "code",
      "source": [],
      "metadata": {
        "id": "kGGVBK9fTcNg"
      },
      "execution_count": null,
      "outputs": []
    }
  ]
}